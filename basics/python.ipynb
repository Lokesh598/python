{
  "cells": [
    {
      "cell_type": "code",
      "execution_count": 3,
      "metadata": {
        "trusted": true
      },
      "outputs": [
        {
          "name": "stdout",
          "output_type": "stream",
          "text": [
            "hello\n"
          ]
        }
      ],
      "source": [
        "print(\"hello\")"
      ]
    },
    {
      "cell_type": "code",
      "execution_count": 4,
      "metadata": {
        "trusted": true
      },
      "outputs": [
        {
          "data": {
            "text/plain": [
              "5"
            ]
          },
          "execution_count": 4,
          "metadata": {},
          "output_type": "execute_result"
        }
      ],
      "source": [
        "2+3"
      ]
    },
    {
      "cell_type": "code",
      "execution_count": 5,
      "metadata": {
        "trusted": true
      },
      "outputs": [
        {
          "data": {
            "text/plain": [
              "'string2'"
            ]
          },
          "execution_count": 5,
          "metadata": {},
          "output_type": "execute_result"
        }
      ],
      "source": [
        "\"string\"+\"2\"\n"
      ]
    },
    {
      "cell_type": "code",
      "execution_count": 6,
      "metadata": {
        "trusted": true
      },
      "outputs": [
        {
          "data": {
            "text/plain": [
              "4.1"
            ]
          },
          "execution_count": 6,
          "metadata": {},
          "output_type": "execute_result"
        }
      ],
      "source": [
        "2+2.1"
      ]
    },
    {
      "cell_type": "code",
      "execution_count": 7,
      "metadata": {
        "trusted": true
      },
      "outputs": [
        {
          "name": "stdout",
          "output_type": "stream",
          "text": [
            "l\n",
            "o\n",
            "k\n",
            "e\n",
            "s\n",
            "h\n"
          ]
        }
      ],
      "source": [
        "for x in \"lokesh\":\n",
        "    print(x)"
      ]
    },
    {
      "cell_type": "code",
      "execution_count": 8,
      "metadata": {
        "trusted": true
      },
      "outputs": [
        {
          "name": "stdout",
          "output_type": "stream",
          "text": [
            "apple\n",
            "bannana\n"
          ]
        }
      ],
      "source": [
        "fruit = [\"apple\", \"bannana\"]\n",
        "for f in fruit:\n",
        "    print(f)"
      ]
    },
    {
      "cell_type": "code",
      "execution_count": 9,
      "metadata": {
        "trusted": true
      },
      "outputs": [
        {
          "name": "stdout",
          "output_type": "stream",
          "text": [
            "1\n",
            "3\n",
            "3\n",
            "4\n",
            "5\n"
          ]
        }
      ],
      "source": [
        "#sort array using bubble sort\n",
        "arr = [1,3,4,3,5]\n",
        "n = len(arr)\n",
        "for i in range(0,n-1):\n",
        "    for j in range(0, n-1):\n",
        "        if arr[i] < arr[j]:\n",
        "            tmp = arr[i]\n",
        "            arr[i] = arr[j]\n",
        "            arr[j] = tmp\n",
        "\n",
        "for x in arr:\n",
        "    print(x)\n"
      ]
    },
    {
      "cell_type": "code",
      "execution_count": 10,
      "metadata": {
        "trusted": true
      },
      "outputs": [
        {
          "name": "stdout",
          "output_type": "stream",
          "text": [
            "3 2\n"
          ]
        }
      ],
      "source": [
        "#swap in python\n",
        "# i = 2\n",
        "# j = 3\n",
        "i, j = 2, 3\n",
        "tmp = i\n",
        "i = j\n",
        "j = tmp\n",
        "\n",
        "print(i, j)"
      ]
    },
    {
      "cell_type": "code",
      "execution_count": 11,
      "metadata": {
        "trusted": true
      },
      "outputs": [
        {
          "name": "stdout",
          "output_type": "stream",
          "text": [
            "2\n",
            "4\n"
          ]
        }
      ],
      "source": [
        "#program on array\n",
        "arr = [1,2,4]\n",
        "for i in range(1,3):\n",
        "    print(arr[i])"
      ]
    },
    {
      "cell_type": "code",
      "execution_count": 12,
      "metadata": {
        "trusted": true
      },
      "outputs": [
        {
          "name": "stdout",
          "output_type": "stream",
          "text": [
            "2\n"
          ]
        }
      ],
      "source": [
        "arr = [1,2,4]\n",
        "print(arr[1])"
      ]
    },
    {
      "cell_type": "code",
      "execution_count": 13,
      "metadata": {
        "trusted": true
      },
      "outputs": [
        {
          "name": "stdout",
          "output_type": "stream",
          "text": [
            "hello world\n"
          ]
        }
      ],
      "source": [
        "#functions in python\n",
        "def printMessage():\n",
        "    print(\"hello world\")\n",
        "\n",
        "printMessage()"
      ]
    },
    {
      "cell_type": "code",
      "execution_count": 14,
      "metadata": {
        "trusted": true
      },
      "outputs": [
        {
          "name": "stdout",
          "output_type": "stream",
          "text": [
            "5\n"
          ]
        }
      ],
      "source": [
        "#add 2 numbers\n",
        "\n",
        "i = 2 \n",
        "j = 3\n",
        "def addNumbers(i, j):\n",
        "    return i+j;\n",
        "\n",
        "print(addNumbers(i, j))\n",
        "\n",
        "\n",
        "#in python return type is not required."
      ]
    },
    {
      "cell_type": "code",
      "execution_count": 15,
      "metadata": {
        "trusted": true
      },
      "outputs": [
        {
          "name": "stdout",
          "output_type": "stream",
          "text": [
            "number is odd\n"
          ]
        }
      ],
      "source": [
        "# number is even or odd\n",
        "\n",
        "num = 23\n",
        "def oddOrEven(num):\n",
        "    if num%2 == 0:\n",
        "        return \"number is even\"\n",
        "    else:\n",
        "        return \"number is odd\"\n",
        "\n",
        "print(oddOrEven(num))\n"
      ]
    },
    {
      "cell_type": "code",
      "execution_count": 16,
      "metadata": {
        "trusted": true
      },
      "outputs": [
        {
          "name": "stdout",
          "output_type": "stream",
          "text": [
            "1\n",
            "2\n",
            "3\n"
          ]
        }
      ],
      "source": [
        "#while loop\n",
        "arr = [1,2,3]\n",
        "x = 0\n",
        "while x < len(arr):\n",
        "    print(arr[x])\n",
        "    x+=1\n",
        "    "
      ]
    },
    {
      "cell_type": "code",
      "execution_count": 17,
      "metadata": {
        "trusted": true
      },
      "outputs": [
        {
          "name": "stdout",
          "output_type": "stream",
          "text": [
            "[1, 3, 6, 2, 4, 9, 0, 2]\n",
            "[0, 1, 2, 2, 3, 4, 6, 9]\n",
            "[0, 1, 2, 2, 4, 6, 9]\n",
            "[0, 1, 2, 2, 6, 9]\n",
            "2\n"
          ]
        }
      ],
      "source": [
        "#python arrays\n",
        "arr = [1,3,6,2,4,9]\n",
        "\n",
        "arr.append(0)\n",
        "arr.append(2)\n",
        "print(arr)\n",
        "arr.sort()\n",
        "print(arr)\n",
        "arr.pop(4)#4th position element will be deleted\n",
        "print(arr)\n",
        "arr.remove(4)# 4 will be deleted\n",
        "print(arr)\n",
        "print(arr.count(2))#count return the occurances of a number"
      ]
    },
    {
      "cell_type": "code",
      "execution_count": 18,
      "metadata": {
        "trusted": true
      },
      "outputs": [
        {
          "name": "stdout",
          "output_type": "stream",
          "text": [
            "['orange', 'apple', 'dragonfruit']\n",
            "['orange', 'apple', 'dragonfruit', 'banana']\n",
            "['orange', 'apple', 'dragonfruit', 'graps', 'banana']\n"
          ]
        }
      ],
      "source": [
        "#List\n",
        "list = [\"orange\", \"apple\", \"dragonfruit\"]\n",
        "print(list)\n",
        "list.append(\"banana\")\n",
        "print(list)\n",
        "list.insert(3,\"graps\")\n",
        "print(list)"
      ]
    },
    {
      "cell_type": "code",
      "execution_count": 19,
      "metadata": {
        "trusted": true
      },
      "outputs": [
        {
          "name": "stdout",
          "output_type": "stream",
          "text": [
            "['orange', 'apple', 'dragonfruit', 'graps', 'kela']\n"
          ]
        }
      ],
      "source": [
        "#update value\n",
        "list[4] = \"kela\"\n",
        "print(list)"
      ]
    },
    {
      "cell_type": "code",
      "execution_count": 20,
      "metadata": {
        "trusted": true
      },
      "outputs": [
        {
          "name": "stdout",
          "output_type": "stream",
          "text": [
            "['orange', 'apple', 'dragonfruit', 'graps', 'kela', 1, 3, 2, 4]\n"
          ]
        }
      ],
      "source": [
        "#join list\n",
        "list1 = [1, 3, 2, 4]\n",
        "print(list+list1)"
      ]
    },
    {
      "cell_type": "code",
      "execution_count": 21,
      "metadata": {
        "trusted": true
      },
      "outputs": [
        {
          "name": "stdout",
          "output_type": "stream",
          "text": [
            "('lokesh', 1, 2, 2.3)\n"
          ]
        }
      ],
      "source": [
        "#touple\n",
        "tuple = (\"lokesh\", 1, 2, 2.3)\n",
        "print(tuple)"
      ]
    },
    {
      "cell_type": "code",
      "execution_count": 22,
      "metadata": {
        "trusted": true
      },
      "outputs": [
        {
          "name": "stdout",
          "output_type": "stream",
          "text": [
            "<class 'str'>\n",
            "<class 'tuple'>\n"
          ]
        }
      ],
      "source": [
        "#tuple twist\n",
        "tuple = (\"lokesh\") #this is not tuple\n",
        "\n",
        "print(type(tuple))\n",
        "\n",
        "tuple1 = (\"lokesh\",) #if one element is there then must add comma\n",
        "print(type(tuple1))"
      ]
    },
    {
      "cell_type": "code",
      "execution_count": 23,
      "metadata": {
        "trusted": true
      },
      "outputs": [
        {
          "ename": "TypeError",
          "evalue": "'str' object is not callable",
          "output_type": "error",
          "traceback": [
            "\u001b[1;31m---------------------------------------------------------------------------\u001b[0m",
            "\u001b[1;31mTypeError\u001b[0m                                 Traceback (most recent call last)",
            "Cell \u001b[1;32mIn[23], line 2\u001b[0m\n\u001b[0;32m      1\u001b[0m \u001b[38;5;66;03m#touple method\u001b[39;00m\n\u001b[1;32m----> 2\u001b[0m thistuple \u001b[38;5;241m=\u001b[39m \u001b[38;5;28;43mtuple\u001b[39;49m\u001b[43m(\u001b[49m\u001b[43m(\u001b[49m\u001b[38;5;124;43m\"\u001b[39;49m\u001b[38;5;124;43mlokesh\u001b[39;49m\u001b[38;5;124;43m\"\u001b[39;49m\u001b[43m,\u001b[49m\u001b[38;5;124;43m\"\u001b[39;49m\u001b[38;5;124;43msingh\u001b[39;49m\u001b[38;5;124;43m\"\u001b[39;49m\u001b[43m)\u001b[49m\u001b[43m)\u001b[49m\n\u001b[0;32m      4\u001b[0m \u001b[38;5;28mprint\u001b[39m(thistuple)\n",
            "\u001b[1;31mTypeError\u001b[0m: 'str' object is not callable"
          ]
        }
      ],
      "source": [
        "#touple method\n",
        "thistuple = tuple((\"lokesh\",\"singh\"))\n",
        "\n",
        "print(thistuple)"
      ]
    },
    {
      "cell_type": "code",
      "execution_count": null,
      "metadata": {
        "trusted": true
      },
      "outputs": [
        {
          "name": "stdout",
          "output_type": "stream",
          "text": [
            "{'name': 'lokesh', 'emailId': 'ashawat.lokesh@gmail.com', 'mobileNo.': 8290048152}\n"
          ]
        }
      ],
      "source": [
        "#Dictionaries are used to store data values in key:value pairs.\n",
        "dict = {\n",
        "    \"name\" : \"lokesh\",\n",
        "    \"emailId\" : \"ashawat.lokesh@gmail.com\",\n",
        "    \"mobileNo.\": 8290048152\n",
        "}\n",
        "\n",
        "print(dict)"
      ]
    },
    {
      "cell_type": "code",
      "execution_count": null,
      "metadata": {
        "trusted": true
      },
      "outputs": [
        {
          "name": "stdout",
          "output_type": "stream",
          "text": [
            "lokesh\n"
          ]
        }
      ],
      "source": [
        "#access dist element\n",
        "print(dict[\"name\"])"
      ]
    },
    {
      "cell_type": "code",
      "execution_count": null,
      "metadata": {
        "trusted": true
      },
      "outputs": [
        {
          "name": "stdout",
          "output_type": "stream",
          "text": [
            "30\n",
            "25\n"
          ]
        }
      ],
      "source": [
        "#how to read csv file\n",
        "import csv\n",
        "\n",
        "with open(\"ages_newlines.csv\", \"r\") as file:\n",
        "    reader = csv.reader(file)\n",
        "    next(reader) \n",
        "    for row in reader:\n",
        "        print(row[1])\n"
      ]
    },
    {
      "cell_type": "code",
      "execution_count": null,
      "metadata": {
        "trusted": true
      },
      "outputs": [
        {
          "data": {
            "text/html": [
              "<div>\n",
              "<style scoped>\n",
              "    .dataframe tbody tr th:only-of-type {\n",
              "        vertical-align: middle;\n",
              "    }\n",
              "\n",
              "    .dataframe tbody tr th {\n",
              "        vertical-align: top;\n",
              "    }\n",
              "\n",
              "    .dataframe thead th {\n",
              "        text-align: right;\n",
              "    }\n",
              "</style>\n",
              "<table border=\"1\" class=\"dataframe\">\n",
              "  <thead>\n",
              "    <tr style=\"text-align: right;\">\n",
              "      <th></th>\n",
              "      <th>BPN</th>\n",
              "      <th>UPC</th>\n",
              "      <th>Rog/StoreId</th>\n",
              "      <th>FacilityType</th>\n",
              "      <th>OverridePrice</th>\n",
              "      <th>PriceStrtDate</th>\n",
              "      <th>PriceEndDate</th>\n",
              "      <th>Comment</th>\n",
              "    </tr>\n",
              "  </thead>\n",
              "  <tbody>\n",
              "  </tbody>\n",
              "</table>\n",
              "</div>"
            ],
            "text/plain": [
              "Empty DataFrame\n",
              "Columns: [BPN, UPC, Rog/StoreId, FacilityType, OverridePrice, PriceStrtDate, PriceEndDate, Comment]\n",
              "Index: []"
            ]
          },
          "execution_count": 3,
          "metadata": {},
          "output_type": "execute_result"
        }
      ],
      "source": [
        "import pandas as pd\n",
        "# df = pd.read_csv('data.csv')\n",
        "df = pd.read_csv('priceoverrideTemplate.csv')\n",
        "   \n",
        "df.head() "
      ]
    },
    {
      "cell_type": "code",
      "execution_count": null,
      "metadata": {
        "trusted": true
      },
      "outputs": [],
      "source": []
    },
    {
      "cell_type": "code",
      "execution_count": 1,
      "metadata": {
        "trusted": true
      },
      "outputs": [
        {
          "name": "stdout",
          "output_type": "stream",
          "text": [
            "ferrari\n"
          ]
        }
      ],
      "source": [
        "class Car:\n",
        "    def printCar(self):\n",
        "        print(\"ferrari\")\n",
        "\n",
        "\n",
        "\n",
        "\n",
        "\n",
        "ob = Car()\n",
        "ob.printCar()"
      ]
    }
  ],
  "metadata": {
    "kernelspec": {
      "display_name": "Python 3",
      "language": "python",
      "name": "python3"
    },
    "language_info": {
      "codemirror_mode": {
        "name": "ipython",
        "version": 3
      },
      "file_extension": ".py",
      "mimetype": "text/x-python",
      "name": "python",
      "nbconvert_exporter": "python",
      "pygments_lexer": "ipython3",
      "version": "0.0.0"
    }
  },
  "nbformat": 4,
  "nbformat_minor": 4
}
