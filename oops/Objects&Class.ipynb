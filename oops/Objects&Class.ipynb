{
 "cells": [
  {
   "cell_type": "markdown",
   "metadata": {},
   "source": [
    "# class\n",
    "\n",
    "### The self\n",
    "\n",
    "    Class methods must have an extra first parameter in the method definition. We do not give a value for this parameter when we call the method, Python provides it.\n",
    "    If we have a method that takes no arguments, then we still have to have one argument.\n",
    "    This is similar to this pointer in C++ and this reference in Java.\n",
    "\n",
    "### The Python __init__ Method \n",
    "\n",
    "The __init__ method is similar to constructors in C++ and Java. It is run as soon as an object of a class is instantiated. The method is useful to do any initialization you want to do with your object. Now let us define a class and create some objects using the self and __init__ method.\n"
   ]
  },
  {
   "cell_type": "code",
   "execution_count": null,
   "metadata": {},
   "outputs": [],
   "source": [
    "class Dog:\n",
    "    pass\n"
   ]
  },
  {
   "cell_type": "code",
   "execution_count": 1,
   "metadata": {},
   "outputs": [
    {
     "name": "stdout",
     "output_type": "stream",
     "text": [
      "ferrari\n"
     ]
    }
   ],
   "source": [
    "class Car:\n",
    "    def printCar(self):\n",
    "        print(\"ferrari\")\n",
    "\n",
    "#creating object\n",
    "ob = Car()\n",
    "ob.printCar()"
   ]
  },
  {
   "cell_type": "code",
   "execution_count": 2,
   "metadata": {},
   "outputs": [
    {
     "name": "stdout",
     "output_type": "stream",
     "text": [
      "7\n"
     ]
    }
   ],
   "source": [
    "class Number:\n",
    "    def __init__(self, number):\n",
    "        self.number = number\n",
    "\n",
    "    def returnNumber(self):\n",
    "        return self.number\n",
    "    \n",
    "\n",
    "ob = Number(7)\n",
    "\n",
    "print(ob.returnNumber())"
   ]
  },
  {
   "cell_type": "code",
   "execution_count": 3,
   "metadata": {},
   "outputs": [
    {
     "name": "stdout",
     "output_type": "stream",
     "text": [
      "Supra is a Toyota yellow worth $400000.00.\n"
     ]
    }
   ],
   "source": [
    "class Vehicle:\n",
    "    # __init__ used to initate class means its like constructor\n",
    "    \n",
    "    def __init__(self, name, brand, price, color):\n",
    "        self.name = name\n",
    "        self.brand = brand\n",
    "        self.price = price\n",
    "        self.color = color\n",
    "\n",
    "    def printCarDescription(self):\n",
    "        \n",
    "        return \"%s is a %s %s worth $%.2f.\" %(self.name, self.brand, self.color, self.price)\n",
    "\n",
    "\n",
    "car = Vehicle(\"Supra\", \"Toyota\", 400000.00, \"yellow\")\n",
    "print(car.printCarDescription())"
   ]
  },
  {
   "cell_type": "code",
   "execution_count": 4,
   "metadata": {},
   "outputs": [
    {
     "name": "stdout",
     "output_type": "stream",
     "text": [
      "Supra is a Toyota yello worth $400000.00.\n"
     ]
    }
   ],
   "source": [
    "class Vehicle:\n",
    "    #...data members\n",
    "    name = \"Supra\"\n",
    "    brand = \"Toyota\"\n",
    "    color = \"yello\"\n",
    "    price = 400000\n",
    "\n",
    "    def printCarDescription(self):\n",
    "        \n",
    "        return \"%s is a %s %s worth $%.2f.\" %(self.name, self.brand, self.color, self.price)\n",
    "\n",
    "\n",
    "car = Vehicle()\n",
    "print(car.printCarDescription())"
   ]
  },
  {
   "cell_type": "code",
   "execution_count": 7,
   "metadata": {},
   "outputs": [
    {
     "name": "stdout",
     "output_type": "stream",
     "text": [
      "Rodger is a mammal\n"
     ]
    }
   ],
   "source": [
    "class Dog:\n",
    "    attr = \"mammal\"\n",
    "\n",
    "    def __init__(self, name):\n",
    "        self.name = name\n",
    "    \n",
    "\n",
    "\n",
    "\n",
    "\n",
    "Rodger = Dog(\"Rodger\")\n",
    "Tommy = Dog(\"Tommy\")\n",
    "\n",
    "#Accessing class attributes\n",
    "print(\"Rodger is a {}\".format(Rodger.__class__.attr))\n",
    "\n",
    "#Accessing instance attribute\n"
   ]
  },
  {
   "cell_type": "code",
   "execution_count": 8,
   "metadata": {},
   "outputs": [
    {
     "ename": "NameError",
     "evalue": "name 'Math' is not defined",
     "output_type": "error",
     "traceback": [
      "\u001b[1;31m---------------------------------------------------------------------------\u001b[0m",
      "\u001b[1;31mNameError\u001b[0m                                 Traceback (most recent call last)",
      "Cell \u001b[1;32mIn[8], line 1\u001b[0m\n\u001b[1;32m----> 1\u001b[0m \u001b[43mMath\u001b[49m\u001b[38;5;241m.\u001b[39mmax(\u001b[38;5;241m1\u001b[39m,\u001b[38;5;241m3\u001b[39m)\n",
      "\u001b[1;31mNameError\u001b[0m: name 'Math' is not defined"
     ]
    }
   ],
   "source": [
    "Math.max(1,3)"
   ]
  },
  {
   "cell_type": "code",
   "execution_count": 9,
   "metadata": {},
   "outputs": [
    {
     "data": {
      "text/plain": [
       "2"
      ]
     },
     "execution_count": 9,
     "metadata": {},
     "output_type": "execute_result"
    }
   ],
   "source": [
    "max(1, 2)"
   ]
  },
  {
   "cell_type": "code",
   "execution_count": null,
   "metadata": {},
   "outputs": [],
   "source": []
  }
 ],
 "metadata": {
  "kernelspec": {
   "display_name": "Python 3",
   "language": "python",
   "name": "python3"
  },
  "language_info": {
   "codemirror_mode": {
    "name": "ipython",
    "version": 3
   },
   "file_extension": ".py",
   "mimetype": "text/x-python",
   "name": "python",
   "nbconvert_exporter": "python",
   "pygments_lexer": "ipython3",
   "version": "0.0.0"
  }
 },
 "nbformat": 4,
 "nbformat_minor": 2
}
